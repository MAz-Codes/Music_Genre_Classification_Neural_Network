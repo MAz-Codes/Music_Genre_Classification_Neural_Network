{
 "cells": [
  {
   "cell_type": "code",
   "execution_count": 2,
   "metadata": {},
   "outputs": [],
   "source": [
    "import json\n",
    "import numpy as np\n",
    "from sklearn.model_selection import train_test_split\n",
    "from tensorflow import keras\n",
    "\n",
    "DATASET_PATH = \"data.json\"\n",
    "\n",
    "def load_data(dataset_path):\n",
    "    with open(dataset_path, \"r\") as fp:\n",
    "        data = json.load(fp)\n",
    "    inputs = np.array(data[\"mfcc\"])\n",
    "    targets = np.array(data[\"labels\"])\n",
    "\n",
    "    return inputs, targets\n",
    "\n",
    "if __name__ == \"__main__\":\n",
    "    inputs, targets = load_data(DATASET_PATH)\n",
    "\n",
    "    # Split data into training and testing sets\n",
    "    inputs_train, inputs_test, targets_train, targets_test = \\\n",
    "        train_test_split(inputs, targets, test_size=0.3)\n",
    "\n",
    "    # Build the network architecture\n",
    "    model = keras.Sequential([\n",
    "        # Input layer\n",
    "        keras.layers.Flatten(input_shape=(inputs.shape[1], inputs.shape[2])),\n",
    "        # 1st hidden layer\n",
    "        keras.layers.Dense(512, activation=\"relu\"),\n",
    "        # 2nd hidden layer\n",
    "        keras.layers.Dense(256, activation=\"relu\"),\n",
    "        # 3rd hidden layer\n",
    "        keras.layers.Dense(64, activation=\"relu\"),\n",
    "        # Output layer\n",
    "        keras.layers.Dense(10, activation=\"softmax\")\n",
    "    ])\n",
    "\n",
    "    # Compile the model\n",
    "    optimizer = keras.optimizers.Adam(learning_rate=0.0001)\n",
    "\n",
    "    model.compile(\n",
    "        optimizer=optimizer,\n",
    "        loss=\"sparse_categorical_crossentropy\",\n",
    "        metrics=[\"accuracy\"]\n",
    "    )\n",
    "\n",
    "    model.summary()\n",
    "\n",
    "    #train the model\n",
    "    model.fit(\n",
    "        inputs_train,\n",
    "        targets_train,\n",
    "        validation_data=(inputs_test, targets_test),\n",
    "        epochs=50,\n",
    "        batch_size=32\n",
    "    )"
   ]
  },
  {
   "cell_type": "code",
   "execution_count": null,
   "metadata": {},
   "outputs": [],
   "source": []
  }
 ],
 "metadata": {
  "kernelspec": {
   "display_name": "Python 3",
   "language": "python",
   "name": "python3"
  },
  "language_info": {
   "codemirror_mode": {
    "name": "ipython",
    "version": 3
   },
   "file_extension": ".py",
   "mimetype": "text/x-python",
   "name": "python",
   "nbconvert_exporter": "python",
   "pygments_lexer": "ipython3",
   "version": "3.11.4"
  },
  "orig_nbformat": 4
 },
 "nbformat": 4,
 "nbformat_minor": 2
}
